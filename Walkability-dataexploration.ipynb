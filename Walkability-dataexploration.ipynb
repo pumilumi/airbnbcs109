{
 "cells": [
  {
   "cell_type": "code",
   "execution_count": 2,
   "metadata": {
    "collapsed": true
   },
   "outputs": [],
   "source": [
    "import numpy as np\n",
    "import pandas as pd\n",
    "import matplotlib\n",
    "import matplotlib.pyplot as plt\n",
    "import random\n",
    "from mpl_toolkits.mplot3d import Axes3D\n",
    "from bs4 import BeautifulSoup\n",
    "import urllib\n",
    "import requests\n",
    "%matplotlib inline\n",
    "\n",
    "from sklearn.linear_model import LinearRegression as Lin_Reg\n",
    "import matplotlib.cm as cmx\n",
    "import matplotlib.colors as colors\n",
    "import scipy as sp\n",
    "import os\n",
    "import itertools\n",
    "import statsmodels.api as sm\n",
    "from sklearn.cross_validation import train_test_split as sk_split\n",
    "import time"
   ]
  },
  {
   "cell_type": "code",
   "execution_count": 3,
   "metadata": {
    "collapsed": false
   },
   "outputs": [],
   "source": [
    "#Read in coordinate data from html and parse\n",
    "page = urllib.urlopen(\"https://www.walkscore.com/NY/New_York\").read()\n",
    "soup = BeautifulSoup(page, \"lxml\")"
   ]
  },
  {
   "cell_type": "code",
   "execution_count": 5,
   "metadata": {
    "collapsed": false
   },
   "outputs": [],
   "source": [
    "right_table=soup.find('table', class_='tablesorter') \n",
    "rows = right_table.find_all('tr')[1:]\n",
    "data = {\n",
    "    'rank' : [],\n",
    "    'name' : [],\n",
    "    'walkscore' : [],\n",
    "    'transitscore' : [],\n",
    "    'bikescore' : []\n",
    "}\n",
    "\n",
    "for row in rows:\n",
    "    cols = row.find_all('td')\n",
    "    data['rank'].append( cols[0].get_text() )\n",
    "    data['name'].append( cols[1].get_text() )\n",
    "    data['walkscore'].append( cols[2].get_text() )\n",
    "    data['transitscore'].append( cols[3].get_text() )\n",
    "    data['bikescore'].append( cols[4].get_text() )\n",
    "    \n",
    "WalkData = pd.DataFrame( data )\n",
    "WalkData.to_csv(\"neighborhood_walkability.csv\")"
   ]
  },
  {
   "cell_type": "code",
   "execution_count": 7,
   "metadata": {
    "collapsed": false
   },
   "outputs": [
    {
     "name": "stdout",
     "output_type": "stream",
     "text": [
      "    bikescore                   name rank transitscore walkscore\n",
      "0         87            Little Italy    1         100        100\n",
      "1         84       Flatiron District    2         100        100\n",
      "2         87               Chinatown    3         100        100\n",
      "3         82                   NoMad    4         100        100\n",
      "4         89                  Bowery    5         100        100\n",
      "5         81               Koreatown    6         100        100\n",
      "6         85            Union Square    7         100        100\n",
      "7         87                    NoHo    8         100        100\n",
      "8         88                  NoLita    9         100        100\n",
      "9         84           Gramercy Park   10         100        100\n",
      "10        80      Financial District   11         100        100\n",
      "11        84                 Tribeca   12         100         99\n",
      "12        82        Garment District   13         100         99\n",
      "13        87                    SoHo   14         100         99\n",
      "14        86       Greenwich Village   15         100         99\n",
      "15        80        Theater District   16         100         99\n",
      "16        77            Midtown East   17         100         99\n",
      "17        87            West Village   18         100         99\n",
      "18        80                Kips Bay   19         100         99\n",
      "19        78             Murray Hill   20         100         99\n",
      "20        85            Civic Center   21         100         98\n",
      "21        90             Boerum Hill   22         100         98\n",
      "22        80          Hell's Kitchen   23         100         98\n",
      "23        87                 Chelsea   24         100         98\n",
      "24        73         Upper East Side   25          99         98\n",
      "25        87             Two Bridges   26          99         98\n",
      "26        82                   DUMBO   27         100         98\n",
      "27        90             Cobble Hill   28          98         97\n",
      "28        86        Prospect Heights   29         100         97\n",
      "29        89             Fort Greene   30         100         97\n",
      "..        ...                    ...  ...          ...       ...\n",
      "213       41             Silver Lake  214          59         61\n",
      "214       58         Gerritsen Beach  215          60         60\n",
      "215       49         Spencer Estates  216          69         59\n",
      "216       27             Grymes Hill  217          62         59\n",
      "217       46             Tottenville  218          54         59\n",
      "218       55          Fort Wadsworth  219          63         58\n",
      "219       45              Alley Park  220          56         58\n",
      "220       40             Willowbrook  221          49         56\n",
      "221       51            Ocean Breeze  222          57         56\n",
      "222       45                 Oakwood  223          60         55\n",
      "223       43         Pleasant Plains  224          51         55\n",
      "224       44               Rossville  225          44         54\n",
      "225       51        Travis - Chelsea  226          44         54\n",
      "226       45                Huguenot  227          49         51\n",
      "227       55           Broad Channel  228          64         51\n",
      "228       47         New Springville  229          57         51\n",
      "229       55            Prince's Bay  230          51         50\n",
      "230       53                Sea Gate  231          47         49\n",
      "231       41                Annadale  232          52         48\n",
      "232       31               Todt Hill  233          52         48\n",
      "233       42             Bay Terrace  234          60         48\n",
      "234       64           Fort Hamilton  235          57         46\n",
      "235       46                 Woodrow  236          48         44\n",
      "236       22         Lighthouse Hill  237          46         40\n",
      "237       36           Arden Heights  238          44         38\n",
      "238       36              Greenridge  239          57         37\n",
      "239       37              Charleston  240          43         36\n",
      "240       40              Bloomfield  241          54         36\n",
      "241       71   Randalls-Wards Island  242          66         22\n",
      "242       26           Rikers Island  243          34          2\n",
      "\n",
      "[243 rows x 5 columns]\n"
     ]
    }
   ],
   "source": [
    "print WalkData"
   ]
  },
  {
   "cell_type": "markdown",
   "metadata": {},
   "source": [
    "##### Code adapted from:\n",
    "https://chihacknight.org/blog/2014/11/26/an-intro-to-web-scraping-with-python.html\n",
    "https://www.analyticsvidhya.com/blog/2015/10/beginner-guide-web-scraping-beautiful-soup-python/"
   ]
  },
  {
   "cell_type": "code",
   "execution_count": 13,
   "metadata": {
    "collapsed": false
   },
   "outputs": [
    {
     "data": {
      "text/plain": [
       "[<matplotlib.lines.Line2D at 0xf2b2828>]"
      ]
     },
     "execution_count": 13,
     "metadata": {},
     "output_type": "execute_result"
    },
    {
     "data": {
      "image/png": "[encoded data removed]",
      "text/plain": [
       "<matplotlib.figure.Figure at 0xf103c50>"
      ]
     },
     "metadata": {},
     "output_type": "display_data"
    }
   ],
   "source": [
    "ws = WalkData['walkscore']\n",
    "\n",
    "plt.plot(ws)"
   ]
  },
  {
   "cell_type": "code",
   "execution_count": null,
   "metadata": {
    "collapsed": true
   },
   "outputs": [],
   "source": []
  }
 ],
 "metadata": {
  "anaconda-cloud": {},
  "kernelspec": {
   "display_name": "Python [Root]",
   "language": "python",
   "name": "Python [Root]"
  },
  "language_info": {
   "codemirror_mode": {
    "name": "ipython",
    "version": 2
   },
   "file_extension": ".py",
   "mimetype": "text/x-python",
   "name": "python",
   "nbconvert_exporter": "python",
   "pygments_lexer": "ipython2",
   "version": "2.7.12"
  }
 },
 "nbformat": 4,
 "nbformat_minor": 0
}
